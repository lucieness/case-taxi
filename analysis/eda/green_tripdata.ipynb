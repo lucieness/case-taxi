{
 "cells": [
  {
   "cell_type": "markdown",
   "metadata": {
    "application/vnd.databricks.v1+cell": {
     "cellMetadata": {},
     "inputWidgets": {},
     "nuid": "40736698-87c4-4fc3-b0ee-97670c68c705",
     "showTitle": false,
     "tableResultSettingsMap": {},
     "title": ""
    }
   },
   "source": [
    "Notebook responsável pelo EDA dos arquivos relacionados aos taxis do tipo GREEN."
   ]
  },
  {
   "cell_type": "code",
   "execution_count": 0,
   "metadata": {
    "application/vnd.databricks.v1+cell": {
     "cellMetadata": {
      "byteLimit": 2048000,
      "rowLimit": 10000
     },
     "inputWidgets": {},
     "nuid": "a8bca42b-b514-497f-81a8-12ce0c0ca4aa",
     "showTitle": false,
     "tableResultSettingsMap": {},
     "title": ""
    }
   },
   "outputs": [],
   "source": [
    "import pyspark.sql.types as T\n",
    "import pyspark.sql.functions as F"
   ]
  },
  {
   "cell_type": "code",
   "execution_count": 0,
   "metadata": {
    "application/vnd.databricks.v1+cell": {
     "cellMetadata": {
      "byteLimit": 2048000,
      "rowLimit": 10000
     },
     "inputWidgets": {},
     "nuid": "31ecdb4d-270f-439a-a60d-d5792b0b9cfa",
     "showTitle": false,
     "tableResultSettingsMap": {},
     "title": ""
    }
   },
   "outputs": [],
   "source": [
    "# método que mostra as informações básicas sobre um DataFrame, tais como valores totais de linhas, quantidade de registros distintos,\n",
    "# quantidade de linhas não vazias, qual o schema e métricas de algumas colunas\n",
    "def eda_basic_data(df):\n",
    "    print(f\" Total rows/ distinct rows / not null rows: {df.count()}/{df.dropDuplicates().count()}/{df.dropna(how='all').count()}\")\n",
    "    df.printSchema()\n",
    "    df.show(5)\n",
    "    df.describe().display()\n",
    "\n",
    "# método que mostra a quantidade de registros por mês\n",
    "def eda_count_by_month(df):\n",
    "    timestamp_columns = [f.name for f in df.schema.fields if isinstance(f.dataType, (T.TimestampNTZType, T.TimestampType))]\n",
    "    for col_name in timestamp_columns:\n",
    "        name = f\"mes_{col_name}\"\n",
    "        count_by_month_df = (\n",
    "            df.withColumn(name, F.date_format(F.date_trunc(\"month\", F.col(col_name)), \"yyyy-MM\"))\n",
    "            .groupBy(name)\n",
    "            .count()\n",
    "            .orderBy(name)\n",
    "        )\n",
    "        count_by_month_df.display()\n",
    "\n",
    "# método que mostra a quantidade de registros com outliers\n",
    "def eda_outliers_discover(df):\n",
    "    numerical_cols = [f.name for f in df.schema.fields if isinstance(f.dataType, (T.IntegerType, T.FloatType, T.DoubleType, T.LongType))]\n",
    "\n",
    "    for col_name in numerical_cols:\n",
    "        quantiles = df.approxQuantile(col_name, [0.25, 0.75], 0.05)\n",
    "        if len(quantiles) == 2:\n",
    "            Q1, Q3 = quantiles[0], quantiles[1]\n",
    "            IQR = Q3 - Q1\n",
    "            lower_bound = Q1 - 1.5 * IQR\n",
    "            upper_bound = Q3 + 1.5 * IQR\n",
    "            \n",
    "            outliers = df.filter((F.col(col_name) < lower_bound) | (F.col(col_name) > upper_bound))\n",
    "            print(f\"Outliers in {col_name}: {outliers.count()}\")\n",
    "\n",
    "# método principal de execução do EDA para um determinado Dataframe. Chama os outros métodos.\n",
    "def exec_eda(df):\n",
    "    eda_basic_data(df)\n",
    "    eda_count_by_month(df)\n",
    "    eda_outliers_discover(df)\n",
    "\n",
    "# método que compara os schemas de dois DataFrames, referente apenas aos nomes das colunas\n",
    "def compare_schemas(schema1, schema2):\n",
    "    cols1 = set([field.name for field in schema1.fields])\n",
    "    cols2 = set([field.name for field in schema2.fields])\n",
    "\n",
    "    only_in_schema1 = cols1 - cols2\n",
    "    only_in_schema2 = cols2 - cols1\n",
    "    common_columns = cols1 & cols2\n",
    "\n",
    "    return {\n",
    "        \"only_in_schema1\": list(only_in_schema1),\n",
    "        \"only_in_schema2\": list(only_in_schema2),\n",
    "    }\n"
   ]
  },
  {
   "cell_type": "code",
   "execution_count": 0,
   "metadata": {
    "application/vnd.databricks.v1+cell": {
     "cellMetadata": {
      "byteLimit": 2048000,
      "rowLimit": 10000
     },
     "inputWidgets": {},
     "nuid": "d4ad90c4-018b-43d6-968c-e80f81825f11",
     "showTitle": false,
     "tableResultSettingsMap": {},
     "title": ""
    }
   },
   "outputs": [],
   "source": [
    "s3_path_202301 = \"s3://case-tecnico-ifood/raw/green/2023-01\"\n",
    "s3_path_202302 = \"s3://case-tecnico-ifood/raw/green/2023-02\"\n",
    "s3_path_202303 = \"s3://case-tecnico-ifood/raw/green/2023-03\"\n",
    "s3_path_202304 = \"s3://case-tecnico-ifood/raw/green/2023-04\"\n",
    "s3_path_202305 = \"s3://case-tecnico-ifood/raw/green/2023-05\""
   ]
  },
  {
   "cell_type": "code",
   "execution_count": 0,
   "metadata": {
    "application/vnd.databricks.v1+cell": {
     "cellMetadata": {
      "byteLimit": 2048000,
      "rowLimit": 10000
     },
     "inputWidgets": {},
     "nuid": "20875011-8d22-4802-8d89-045bb81a528a",
     "showTitle": false,
     "tableResultSettingsMap": {},
     "title": ""
    }
   },
   "outputs": [],
   "source": [
    "df_202301 = spark.read.parquet(s3_path_202301)\n",
    "df_202302 = spark.read.parquet(s3_path_202302)\n",
    "df_202303 = spark.read.parquet(s3_path_202303)\n",
    "df_202304 = spark.read.parquet(s3_path_202304)\n",
    "df_202305 = spark.read.parquet(s3_path_202305)"
   ]
  },
  {
   "cell_type": "code",
   "execution_count": 0,
   "metadata": {
    "application/vnd.databricks.v1+cell": {
     "cellMetadata": {
      "byteLimit": 2048000,
      "rowLimit": 10000
     },
     "inputWidgets": {},
     "nuid": "ec553b13-7628-4a72-b2f0-0ab15029a3eb",
     "showTitle": false,
     "tableResultSettingsMap": {},
     "title": ""
    }
   },
   "outputs": [],
   "source": [
    "# compara o schema de uma das tabelas com todos os outros. Isso já é suficiente pra saber se todos os schemas são os mesmos\n",
    "if df_202301.schema == df_202302.schema == df_202303.schema == df_202304.schema == df_202305.schema:\n",
    "    print(\"Schemas are the same\")\n",
    "else:\n",
    "    print(\"Schemas are different\")\n",
    "    print(compare_schemas(df_202301.schema, df_202302.schema))\n",
    "    print(compare_schemas(df_202301.schema, df_202303.schema))\n",
    "    print(compare_schemas(df_202301.schema, df_202304.schema))\n",
    "    print(compare_schemas(df_202301.schema, df_202305.schema))"
   ]
  },
  {
   "cell_type": "code",
   "execution_count": 0,
   "metadata": {
    "application/vnd.databricks.v1+cell": {
     "cellMetadata": {
      "byteLimit": 2048000,
      "rowLimit": 10000
     },
     "inputWidgets": {},
     "nuid": "c02083be-cd67-41ec-ab03-df1d3823c54c",
     "showTitle": false,
     "tableResultSettingsMap": {},
     "title": ""
    }
   },
   "outputs": [],
   "source": [
    "exec_eda(df_202301)"
   ]
  },
  {
   "cell_type": "code",
   "execution_count": 0,
   "metadata": {
    "application/vnd.databricks.v1+cell": {
     "cellMetadata": {
      "byteLimit": 2048000,
      "rowLimit": 10000
     },
     "inputWidgets": {},
     "nuid": "10adafc5-eb5c-4a3d-a683-803db4509eaf",
     "showTitle": false,
     "tableResultSettingsMap": {},
     "title": ""
    }
   },
   "outputs": [],
   "source": [
    "exec_eda(df_202302)"
   ]
  },
  {
   "cell_type": "code",
   "execution_count": 0,
   "metadata": {
    "application/vnd.databricks.v1+cell": {
     "cellMetadata": {
      "byteLimit": 2048000,
      "rowLimit": 10000
     },
     "inputWidgets": {},
     "nuid": "fb5e1841-bf81-46d5-b890-15b20bdaa622",
     "showTitle": false,
     "tableResultSettingsMap": {},
     "title": ""
    }
   },
   "outputs": [],
   "source": [
    "exec_eda(df_202303)"
   ]
  },
  {
   "cell_type": "code",
   "execution_count": 0,
   "metadata": {
    "application/vnd.databricks.v1+cell": {
     "cellMetadata": {
      "byteLimit": 2048000,
      "rowLimit": 10000
     },
     "inputWidgets": {},
     "nuid": "92ed9e48-46be-4da7-993a-87bfd04e9e2b",
     "showTitle": false,
     "tableResultSettingsMap": {},
     "title": ""
    }
   },
   "outputs": [],
   "source": [
    "exec_eda(df_202304)"
   ]
  },
  {
   "cell_type": "code",
   "execution_count": 0,
   "metadata": {
    "application/vnd.databricks.v1+cell": {
     "cellMetadata": {
      "byteLimit": 2048000,
      "rowLimit": 10000
     },
     "inputWidgets": {},
     "nuid": "27799e56-101f-4185-8837-3d860e87da32",
     "showTitle": false,
     "tableResultSettingsMap": {},
     "title": ""
    }
   },
   "outputs": [],
   "source": [
    "exec_eda(df_202305)"
   ]
  }
 ],
 "metadata": {
  "application/vnd.databricks.v1+notebook": {
   "computePreferences": null,
   "dashboards": [],
   "environmentMetadata": {
    "base_environment": "",
    "environment_version": "2"
   },
   "language": "python",
   "notebookMetadata": {
    "pythonIndentUnit": 4
   },
   "notebookName": "green_tripdata",
   "widgets": {}
  },
  "language_info": {
   "name": "python"
  }
 },
 "nbformat": 4,
 "nbformat_minor": 0
}
