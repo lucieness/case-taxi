{
 "cells": [
  {
   "cell_type": "code",
   "execution_count": 0,
   "metadata": {
    "application/vnd.databricks.v1+cell": {
     "cellMetadata": {
      "byteLimit": 2048000,
      "rowLimit": 10000
     },
     "inputWidgets": {},
     "nuid": "a8bca42b-b514-497f-81a8-12ce0c0ca4aa",
     "showTitle": false,
     "tableResultSettingsMap": {},
     "title": ""
    }
   },
   "outputs": [],
   "source": [
    "import pyspark.sql.types as T\n",
    "import pyspark.sql.functions as F"
   ]
  },
  {
   "cell_type": "code",
   "execution_count": 0,
   "metadata": {
    "application/vnd.databricks.v1+cell": {
     "cellMetadata": {
      "byteLimit": 2048000,
      "rowLimit": 10000
     },
     "inputWidgets": {},
     "nuid": "e3208057-5fea-417f-a38c-c8407641ca9a",
     "showTitle": false,
     "tableResultSettingsMap": {},
     "title": ""
    }
   },
   "outputs": [],
   "source": [
    "def exec_eda(df):\n",
    "    numerical_cols = [f.name for f in df.schema.fields if isinstance(f.dataType, (T.IntegerType, T.FloatType, T.DoubleType, T.LongType))]\n",
    "\n",
    "    print(f\" Total rows/ distinct rows / not null rows: {df.count()}/{df.dropDuplicates().count()}/{df.dropna(how='all').count()}\")\n",
    "    df.printSchema()\n",
    "    df.show(5)\n",
    "    df.describe().display()\n",
    "\n",
    "    for col_name in numerical_cols:\n",
    "        quantiles = df.approxQuantile(col_name, [0.25, 0.75], 0.05)\n",
    "        if len(quantiles) == 2:\n",
    "            Q1, Q3 = quantiles[0], quantiles[1]\n",
    "            IQR = Q3 - Q1\n",
    "            lower_bound = Q1 - 1.5 * IQR\n",
    "            upper_bound = Q3 + 1.5 * IQR\n",
    "            \n",
    "            outliers = df.filter((F.col(col_name) < lower_bound) | (F.col(col_name) > upper_bound))\n",
    "            print(f\"Outliers in {col_name}: {outliers.count()}\")"
   ]
  },
  {
   "cell_type": "code",
   "execution_count": 0,
   "metadata": {
    "application/vnd.databricks.v1+cell": {
     "cellMetadata": {
      "byteLimit": 2048000,
      "rowLimit": 10000
     },
     "inputWidgets": {},
     "nuid": "2c2e3fcb-e47b-4daf-bb31-229aff9a9b25",
     "showTitle": false,
     "tableResultSettingsMap": {},
     "title": ""
    }
   },
   "outputs": [],
   "source": [
    "def compare_schemas(schema1, schema2):\n",
    "    cols1 = set([field.name for field in schema1.fields])\n",
    "    cols2 = set([field.name for field in schema2.fields])\n",
    "\n",
    "    only_in_schema1 = cols1 - cols2\n",
    "    only_in_schema2 = cols2 - cols1\n",
    "    common_columns = cols1 & cols2\n",
    "\n",
    "    return {\n",
    "        \"only_in_schema1\": list(only_in_schema1),\n",
    "        \"only_in_schema2\": list(only_in_schema2),\n",
    "    }"
   ]
  },
  {
   "cell_type": "code",
   "execution_count": 0,
   "metadata": {
    "application/vnd.databricks.v1+cell": {
     "cellMetadata": {
      "byteLimit": 2048000,
      "rowLimit": 10000
     },
     "inputWidgets": {},
     "nuid": "d4ad90c4-018b-43d6-968c-e80f81825f11",
     "showTitle": false,
     "tableResultSettingsMap": {},
     "title": ""
    }
   },
   "outputs": [],
   "source": [
    "s3_path_202301 = \"s3://case-tecnico-ifood/raw/fhvhv/2023-01\"\n",
    "s3_path_202302 = \"s3://case-tecnico-ifood/raw/fhvhv/2023-02\"\n",
    "s3_path_202303 = \"s3://case-tecnico-ifood/raw/fhvhv/2023-03\"\n",
    "s3_path_202304 = \"s3://case-tecnico-ifood/raw/fhvhv/2023-04\"\n",
    "s3_path_202305 = \"s3://case-tecnico-ifood/raw/fhvhv/2023-05\""
   ]
  },
  {
   "cell_type": "code",
   "execution_count": 0,
   "metadata": {
    "application/vnd.databricks.v1+cell": {
     "cellMetadata": {
      "byteLimit": 2048000,
      "rowLimit": 10000
     },
     "inputWidgets": {},
     "nuid": "20875011-8d22-4802-8d89-045bb81a528a",
     "showTitle": false,
     "tableResultSettingsMap": {},
     "title": ""
    }
   },
   "outputs": [],
   "source": [
    "df_202301 = spark.read.parquet(s3_path_202301)\n",
    "df_202302 = spark.read.parquet(s3_path_202302)\n",
    "df_202303 = spark.read.parquet(s3_path_202303)\n",
    "df_202304 = spark.read.parquet(s3_path_202304)\n",
    "df_202305 = spark.read.parquet(s3_path_202305)"
   ]
  },
  {
   "cell_type": "code",
   "execution_count": 0,
   "metadata": {
    "application/vnd.databricks.v1+cell": {
     "cellMetadata": {
      "byteLimit": 2048000,
      "rowLimit": 10000
     },
     "inputWidgets": {},
     "nuid": "ec553b13-7628-4a72-b2f0-0ab15029a3eb",
     "showTitle": false,
     "tableResultSettingsMap": {},
     "title": ""
    }
   },
   "outputs": [],
   "source": [
    "if df_202301.schema == df_202302.schema == df_202303.schema == df_202304.schema == df_202305.schema:\n",
    "    print(\"Schemas are the same\")\n",
    "else:\n",
    "    print(\"Schemas are different\")\n",
    "    print(compare_schemas(df_202301.schema, df_202302.schema))\n",
    "    print(compare_schemas(df_202301.schema, df_202303.schema))\n",
    "    print(compare_schemas(df_202301.schema, df_202304.schema))\n",
    "    print(compare_schemas(df_202301.schema, df_202305.schema))"
   ]
  },
  {
   "cell_type": "code",
   "execution_count": 0,
   "metadata": {
    "application/vnd.databricks.v1+cell": {
     "cellMetadata": {
      "byteLimit": 2048000,
      "rowLimit": 10000
     },
     "inputWidgets": {},
     "nuid": "c02083be-cd67-41ec-ab03-df1d3823c54c",
     "showTitle": false,
     "tableResultSettingsMap": {},
     "title": ""
    }
   },
   "outputs": [],
   "source": [
    "exec_eda(df_202301)"
   ]
  },
  {
   "cell_type": "code",
   "execution_count": 0,
   "metadata": {
    "application/vnd.databricks.v1+cell": {
     "cellMetadata": {
      "byteLimit": 2048000,
      "rowLimit": 10000
     },
     "inputWidgets": {},
     "nuid": "10adafc5-eb5c-4a3d-a683-803db4509eaf",
     "showTitle": false,
     "tableResultSettingsMap": {},
     "title": ""
    }
   },
   "outputs": [],
   "source": [
    "exec_eda(df_202302)"
   ]
  },
  {
   "cell_type": "code",
   "execution_count": 0,
   "metadata": {
    "application/vnd.databricks.v1+cell": {
     "cellMetadata": {
      "byteLimit": 2048000,
      "rowLimit": 10000
     },
     "inputWidgets": {},
     "nuid": "fb5e1841-bf81-46d5-b890-15b20bdaa622",
     "showTitle": false,
     "tableResultSettingsMap": {},
     "title": ""
    }
   },
   "outputs": [],
   "source": [
    "exec_eda(df_202303)"
   ]
  },
  {
   "cell_type": "code",
   "execution_count": 0,
   "metadata": {
    "application/vnd.databricks.v1+cell": {
     "cellMetadata": {
      "byteLimit": 2048000,
      "rowLimit": 10000
     },
     "inputWidgets": {},
     "nuid": "92ed9e48-46be-4da7-993a-87bfd04e9e2b",
     "showTitle": false,
     "tableResultSettingsMap": {},
     "title": ""
    }
   },
   "outputs": [],
   "source": [
    "exec_eda(df_202304)"
   ]
  },
  {
   "cell_type": "code",
   "execution_count": 0,
   "metadata": {
    "application/vnd.databricks.v1+cell": {
     "cellMetadata": {
      "byteLimit": 2048000,
      "rowLimit": 10000
     },
     "inputWidgets": {},
     "nuid": "27799e56-101f-4185-8837-3d860e87da32",
     "showTitle": false,
     "tableResultSettingsMap": {},
     "title": ""
    }
   },
   "outputs": [],
   "source": [
    "exec_eda(df_202305)"
   ]
  }
 ],
 "metadata": {
  "application/vnd.databricks.v1+notebook": {
   "computePreferences": null,
   "dashboards": [],
   "environmentMetadata": {
    "base_environment": "",
    "environment_version": "2"
   },
   "language": "python",
   "notebookMetadata": {
    "pythonIndentUnit": 4
   },
   "notebookName": "fhvhv_tripdata",
   "widgets": {}
  },
  "language_info": {
   "name": "python"
  }
 },
 "nbformat": 4,
 "nbformat_minor": 0
}
