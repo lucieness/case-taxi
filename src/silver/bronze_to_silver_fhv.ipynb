{
 "cells": [
  {
   "cell_type": "code",
   "execution_count": 0,
   "metadata": {
    "application/vnd.databricks.v1+cell": {
     "cellMetadata": {
      "byteLimit": 2048000,
      "rowLimit": 10000
     },
     "inputWidgets": {},
     "nuid": "840c2957-6f89-4e90-b4e7-af4f53339bf6",
     "showTitle": false,
     "tableResultSettingsMap": {},
     "title": ""
    }
   },
   "outputs": [],
   "source": [
    "import pyspark.sql.types as T\n",
    "import pyspark.sql.functions as F\n",
    "import yaml"
   ]
  },
  {
   "cell_type": "code",
   "execution_count": 0,
   "metadata": {
    "application/vnd.databricks.v1+cell": {
     "cellMetadata": {
      "byteLimit": 2048000,
      "rowLimit": 10000
     },
     "inputWidgets": {},
     "nuid": "6e865b66-980d-4d01-a1c6-3ae70ae96860",
     "showTitle": false,
     "tableResultSettingsMap": {},
     "title": ""
    }
   },
   "outputs": [],
   "source": [
    "def create_update_column_metadata(table_name, file_path):\n",
    "    try:\n",
    "        with open(file_path, \"r\") as file:\n",
    "            column_comments = yaml.safe_load(file)[\"columns\"]\n",
    "\n",
    "            for column, comment in column_comments.items():\n",
    "                spark.sql(f\"ALTER TABLE {table_name} ALTER COLUMN {column} COMMENT '{comment}'\")\n",
    "    except Exception as e:\n",
    "        print(f\"Error during update column metadata: {e}\")"
   ]
  },
  {
   "cell_type": "code",
   "execution_count": 0,
   "metadata": {
    "application/vnd.databricks.v1+cell": {
     "cellMetadata": {
      "byteLimit": 2048000,
      "rowLimit": 10000
     },
     "inputWidgets": {},
     "nuid": "23354304-6271-4165-8ff5-437e55aa0d2b",
     "showTitle": false,
     "tableResultSettingsMap": {},
     "title": ""
    }
   },
   "outputs": [],
   "source": [
    "source_table_name_after = \"ifood_case.bronze.fhv_after_202301\"\n",
    "source_table_name = \"ifood_case.bronze.fhv_202301\"\n",
    "silver_table_name = \"ifood_case.silver.fhv\""
   ]
  },
  {
   "cell_type": "code",
   "execution_count": 0,
   "metadata": {
    "application/vnd.databricks.v1+cell": {
     "cellMetadata": {
      "byteLimit": 2048000,
      "rowLimit": 10000
     },
     "inputWidgets": {},
     "nuid": "d03bd3d2-8017-498d-91a3-ef2342458217",
     "showTitle": false,
     "tableResultSettingsMap": {},
     "title": ""
    }
   },
   "outputs": [],
   "source": [
    "df_after_202301 = spark.read.table(source_table_name_after)\n",
    "df_202301 = spark.read.table(source_table_name)"
   ]
  },
  {
   "cell_type": "code",
   "execution_count": 0,
   "metadata": {
    "application/vnd.databricks.v1+cell": {
     "cellMetadata": {
      "byteLimit": 2048000,
      "rowLimit": 10000
     },
     "inputWidgets": {},
     "nuid": "05b9375d-76aa-490b-ae4c-6d6f55db8cc0",
     "showTitle": false,
     "tableResultSettingsMap": {},
     "title": ""
    }
   },
   "outputs": [],
   "source": [
    "column_sr_flag = (\n",
    "    F.when(F.col(\"SR_Flag\") == 1, True)\n",
    "     .otherwise(False)\n",
    ")"
   ]
  },
  {
   "cell_type": "code",
   "execution_count": 0,
   "metadata": {
    "application/vnd.databricks.v1+cell": {
     "cellMetadata": {
      "byteLimit": 2048000,
      "rowLimit": 10000
     },
     "inputWidgets": {},
     "nuid": "2f897b8e-588b-48c6-b751-0d4f075b5dfc",
     "showTitle": false,
     "tableResultSettingsMap": {},
     "title": ""
    }
   },
   "outputs": [],
   "source": [
    "df_202301 = (\n",
    "    df_202301\n",
    "        .withColumn(\"fl_shared_trip\", column_sr_flag)\n",
    "        .select(\n",
    "            F.col(\"dispatching_base_num\").alias(\"ds_dispatching_base_number\").cast(T.StringType()),\n",
    "            F.col(\"pickup_datetime\").alias(\"ts_pickup\"),\n",
    "            F.col(\"dropOff_datetime\").alias(\"ts_dropoff\"),\n",
    "            F.col(\"PULocationID\").alias(\"id_pickup_location\").cast(T.IntegerType()),\n",
    "            F.col(\"DOLocationID\").alias(\"id_dropoff_location\").cast(T.IntegerType()),\n",
    "            F.col(\"fl_shared_trip\").cast(T.BooleanType()),\n",
    "            F.col(\"Affiliated_base_number\").alias(\"ds_affiliated_base_number\").cast(T.StringType())       \n",
    "        )\n",
    ")\n",
    "\n",
    "df_after_202301 = (\n",
    "    df_after_202301\n",
    "        .withColumn(\"fl_shared_trip\", column_sr_flag)\n",
    "        .select(\n",
    "            F.col(\"dispatching_base_num\").alias(\"ds_dispatching_base_number\").cast(T.StringType()),\n",
    "            F.col(\"pickup_datetime\").alias(\"ts_pickup\"),\n",
    "            F.col(\"dropOff_datetime\").alias(\"ts_dropoff\"),\n",
    "            F.col(\"PULocationID\").alias(\"id_pickup_location\").cast(T.IntegerType()),\n",
    "            F.col(\"DOLocationID\").alias(\"id_dropoff_location\").cast(T.IntegerType()),\n",
    "            F.col(\"fl_shared_trip\").cast(T.BooleanType()),\n",
    "            F.col(\"Affiliated_base_number\").alias(\"ds_affiliated_base_number\").cast(T.StringType())   \n",
    "        )\n",
    ")\n",
    "\n",
    "df_silver = df_after_202301.union(df_202301).coalesce(1)"
   ]
  },
  {
   "cell_type": "code",
   "execution_count": 0,
   "metadata": {
    "application/vnd.databricks.v1+cell": {
     "cellMetadata": {
      "byteLimit": 2048000,
      "rowLimit": 10000
     },
     "inputWidgets": {},
     "nuid": "2285c501-2738-440f-aef7-cdd693cb1ecd",
     "showTitle": false,
     "tableResultSettingsMap": {},
     "title": ""
    }
   },
   "outputs": [],
   "source": [
    "df_silver = (\n",
    "    df_silver\n",
    "        .dropDuplicates()\n",
    "        .dropna(how=\"all\")\n",
    ")"
   ]
  },
  {
   "cell_type": "code",
   "execution_count": 0,
   "metadata": {
    "application/vnd.databricks.v1+cell": {
     "cellMetadata": {
      "byteLimit": 2048000,
      "rowLimit": 10000
     },
     "inputWidgets": {},
     "nuid": "5f80ebe6-0a11-462b-aafa-7e79f1308300",
     "showTitle": false,
     "tableResultSettingsMap": {},
     "title": ""
    }
   },
   "outputs": [],
   "source": [
    "df_silver.write.format(\"delta\").mode(\"overwrite\").saveAsTable(f\"{silver_table_name}\")"
   ]
  },
  {
   "cell_type": "code",
   "execution_count": 0,
   "metadata": {
    "application/vnd.databricks.v1+cell": {
     "cellMetadata": {
      "byteLimit": 2048000,
      "rowLimit": 10000
     },
     "inputWidgets": {},
     "nuid": "209053b7-874c-4338-9619-c8b87d4d8b40",
     "showTitle": false,
     "tableResultSettingsMap": {},
     "title": ""
    }
   },
   "outputs": [],
   "source": [
    "create_update_column_metadata(silver_table_name, \"./metadata/fhv.yaml\")"
   ]
  }
 ],
 "metadata": {
  "application/vnd.databricks.v1+notebook": {
   "computePreferences": null,
   "dashboards": [],
   "environmentMetadata": {
    "base_environment": "",
    "environment_version": "2"
   },
   "language": "python",
   "notebookMetadata": {
    "pythonIndentUnit": 4
   },
   "notebookName": "bronze_to_silver_fhv",
   "widgets": {}
  },
  "language_info": {
   "name": "python"
  }
 },
 "nbformat": 4,
 "nbformat_minor": 0
}
