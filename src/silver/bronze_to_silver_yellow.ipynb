{
 "cells": [
  {
   "cell_type": "code",
   "execution_count": 0,
   "metadata": {
    "application/vnd.databricks.v1+cell": {
     "cellMetadata": {
      "byteLimit": 2048000,
      "rowLimit": 10000
     },
     "inputWidgets": {},
     "nuid": "544cb10b-e208-489b-8463-89066d0dddd6",
     "showTitle": false,
     "tableResultSettingsMap": {},
     "title": ""
    }
   },
   "outputs": [],
   "source": [
    "import pyspark.sql.types as T\n",
    "import pyspark.sql.functions as F\n",
    "import yaml"
   ]
  },
  {
   "cell_type": "code",
   "execution_count": 0,
   "metadata": {
    "application/vnd.databricks.v1+cell": {
     "cellMetadata": {
      "byteLimit": 2048000,
      "rowLimit": 10000
     },
     "inputWidgets": {},
     "nuid": "885a540f-6692-4b71-aa64-65f43529af57",
     "showTitle": false,
     "tableResultSettingsMap": {},
     "title": ""
    }
   },
   "outputs": [],
   "source": [
    "def create_update_column_metadata(table_name, file_path):\n",
    "    try:\n",
    "        with open(file_path, \"r\") as file:\n",
    "            column_comments = yaml.safe_load(file)[\"columns\"]\n",
    "\n",
    "            for column, comment in column_comments.items():\n",
    "                spark.sql(f\"ALTER TABLE {table_name} ALTER COLUMN {column} COMMENT '{comment}'\")\n",
    "    except Exception as e:\n",
    "        print(f\"Error during update column metadata: {e}\")"
   ]
  },
  {
   "cell_type": "code",
   "execution_count": 0,
   "metadata": {
    "application/vnd.databricks.v1+cell": {
     "cellMetadata": {
      "byteLimit": 2048000,
      "rowLimit": 10000
     },
     "inputWidgets": {},
     "nuid": "23354304-6271-4165-8ff5-437e55aa0d2b",
     "showTitle": false,
     "tableResultSettingsMap": {},
     "title": ""
    }
   },
   "outputs": [],
   "source": [
    "source_table_name_after = \"ifood_case.bronze.yellow_after_202301\"\n",
    "source_table_name = \"ifood_case.bronze.yellow_202301\"\n",
    "silver_table_name = \"ifood_case.silver.yellow\""
   ]
  },
  {
   "cell_type": "code",
   "execution_count": 0,
   "metadata": {
    "application/vnd.databricks.v1+cell": {
     "cellMetadata": {
      "byteLimit": 2048000,
      "rowLimit": 10000
     },
     "inputWidgets": {},
     "nuid": "f1b85c46-df42-4226-bbec-15de45d48104",
     "showTitle": false,
     "tableResultSettingsMap": {},
     "title": ""
    }
   },
   "outputs": [],
   "source": [
    "df_after_202301 = spark.read.table(source_table_name_after)\n",
    "df_202301 = spark.read.table(source_table_name)"
   ]
  },
  {
   "cell_type": "code",
   "execution_count": 0,
   "metadata": {
    "application/vnd.databricks.v1+cell": {
     "cellMetadata": {
      "byteLimit": 2048000,
      "rowLimit": 10000
     },
     "inputWidgets": {},
     "nuid": "ba40e7b0-fc74-4971-bc8f-d6e6c4eee2d7",
     "showTitle": false,
     "tableResultSettingsMap": {},
     "title": ""
    }
   },
   "outputs": [],
   "source": [
    "column_store_and_fwd_flag_expression = (\n",
    "    F.when(F.col(\"store_and_fwd_flag\") == \"N\", False)\n",
    "     .when(F.col(\"store_and_fwd_flag\") == \"Y\", True)\n",
    "     .otherwise(None)\n",
    ")"
   ]
  },
  {
   "cell_type": "code",
   "execution_count": 0,
   "metadata": {
    "application/vnd.databricks.v1+cell": {
     "cellMetadata": {
      "byteLimit": 2048000,
      "rowLimit": 10000
     },
     "inputWidgets": {},
     "nuid": "2f897b8e-588b-48c6-b751-0d4f075b5dfc",
     "showTitle": false,
     "tableResultSettingsMap": {},
     "title": ""
    }
   },
   "outputs": [],
   "source": [
    "\n",
    "df_202301 = (\n",
    "    df_202301\n",
    "        .withColumn(\"fl_store_and_fwd\", column_store_and_fwd_flag_expression)\n",
    "        .select(\n",
    "            F.col(\"VendorID\").alias(\"id_vendor\").cast(T.IntegerType()),\n",
    "            F.col(\"tpep_pickup_datetime\").alias(\"ts_pickup\"),\n",
    "            F.col(\"tpep_dropoff_datetime\").alias(\"ts_dropoff\"),\n",
    "            F.col(\"passenger_count\").alias(\"nb_passenger_count\"),\n",
    "            F.col(\"trip_distance\").alias(\"vl_trip_distance\"),\n",
    "            F.col(\"RatecodeID\").alias(\"id_rate_code\").cast(T.IntegerType()),\n",
    "            F.col(\"fl_store_and_fwd\"),\n",
    "            F.col(\"PULocationID\").alias(\"id_pickup_location\").cast(T.IntegerType()),\n",
    "            F.col(\"DOLocationID\").alias(\"id_dropoff_location\").cast(T.IntegerType()),\n",
    "            F.col(\"payment_type\").alias(\"id_payment_type\").cast(T.IntegerType()),\n",
    "            F.col(\"fare_amount\").alias(\"vl_fare_amount\"),\n",
    "            F.col(\"extra\").alias(\"vl_extra\"),\n",
    "            F.col(\"mta_tax\").alias(\"vl_mta_tax\"),\n",
    "            F.col(\"tip_amount\").alias(\"vl_tip_amount\"),\n",
    "            F.col(\"tolls_amount\").alias(\"vl_tolls_amount\"),\n",
    "            F.col(\"improvement_surcharge\").alias(\"vl_improvement_surcharge\"),\n",
    "            F.col(\"total_amount\").alias(\"vl_total_amount\"),\n",
    "            F.col(\"congestion_surcharge\").alias(\"vl_congestion_surcharge\"),\n",
    "            F.col(\"Airport_fee\").alias(\"vl_airport_fee\"),\n",
    "        )\n",
    ")\n",
    "\n",
    "df_after_202301 = (\n",
    "    df_after_202301\n",
    "        .withColumn(\"fl_store_and_fwd\", column_store_and_fwd_flag_expression)\n",
    "        .select(\n",
    "            F.col(\"VendorID\").alias(\"id_vendor\").cast(T.IntegerType()),\n",
    "            F.col(\"tpep_pickup_datetime\").alias(\"ts_pickup\"),\n",
    "            F.col(\"tpep_dropoff_datetime\").alias(\"ts_dropoff\"),\n",
    "            F.col(\"passenger_count\").alias(\"nb_passenger_count\"),\n",
    "            F.col(\"trip_distance\").alias(\"vl_trip_distance\"),\n",
    "            F.col(\"RatecodeID\").alias(\"id_rate_code\").cast(T.IntegerType()),\n",
    "            F.col(\"fl_store_and_fwd\"),\n",
    "            F.col(\"PULocationID\").alias(\"id_pickup_location\").cast(T.IntegerType()),\n",
    "            F.col(\"DOLocationID\").alias(\"id_dropoff_location\").cast(T.IntegerType()),\n",
    "            F.col(\"payment_type\").alias(\"id_payment_type\").cast(T.IntegerType()),\n",
    "            F.col(\"fare_amount\").alias(\"vl_fare_amount\"),\n",
    "            F.col(\"extra\").alias(\"vl_extra\"),\n",
    "            F.col(\"mta_tax\").alias(\"vl_mta_tax\"),\n",
    "            F.col(\"tip_amount\").alias(\"vl_tip_amount\"),\n",
    "            F.col(\"tolls_amount\").alias(\"vl_tolls_amount\"),\n",
    "            F.col(\"improvement_surcharge\").alias(\"vl_improvement_surcharge\"),\n",
    "            F.col(\"total_amount\").alias(\"vl_total_amount\"),\n",
    "            F.col(\"congestion_surcharge\").alias(\"vl_congestion_surcharge\"),\n",
    "            F.col(\"airport_fee\").alias(\"vl_airport_fee\"),\n",
    "        )\n",
    ")\n",
    "\n",
    "df_silver = df_after_202301.union(df_202301).repartition(2)"
   ]
  },
  {
   "cell_type": "code",
   "execution_count": 0,
   "metadata": {
    "application/vnd.databricks.v1+cell": {
     "cellMetadata": {
      "byteLimit": 2048000,
      "rowLimit": 10000
     },
     "inputWidgets": {},
     "nuid": "56ef36a4-13f4-461f-97ba-d5f01f7a0efc",
     "showTitle": false,
     "tableResultSettingsMap": {},
     "title": ""
    }
   },
   "outputs": [],
   "source": [
    "df_silver = (\n",
    "    df_silver\n",
    "        .dropDuplicates()\n",
    "        .dropna(how=\"all\")\n",
    ")"
   ]
  },
  {
   "cell_type": "code",
   "execution_count": 0,
   "metadata": {
    "application/vnd.databricks.v1+cell": {
     "cellMetadata": {
      "byteLimit": 2048000,
      "rowLimit": 10000
     },
     "inputWidgets": {},
     "nuid": "5f80ebe6-0a11-462b-aafa-7e79f1308300",
     "showTitle": false,
     "tableResultSettingsMap": {},
     "title": ""
    }
   },
   "outputs": [],
   "source": [
    "df_silver.write.format(\"delta\").mode(\"overwrite\").saveAsTable(f\"{silver_table_name}\")"
   ]
  },
  {
   "cell_type": "code",
   "execution_count": 0,
   "metadata": {
    "application/vnd.databricks.v1+cell": {
     "cellMetadata": {
      "byteLimit": 2048000,
      "rowLimit": 10000
     },
     "inputWidgets": {},
     "nuid": "1e4bc7a5-847a-4d83-9fd2-eeeb2e877dbd",
     "showTitle": false,
     "tableResultSettingsMap": {},
     "title": ""
    }
   },
   "outputs": [],
   "source": [
    "create_update_column_metadata(silver_table_name, \"./metadata/yellow.yaml\")"
   ]
  }
 ],
 "metadata": {
  "application/vnd.databricks.v1+notebook": {
   "computePreferences": null,
   "dashboards": [],
   "environmentMetadata": {
    "base_environment": "",
    "environment_version": "2"
   },
   "language": "python",
   "notebookMetadata": {
    "pythonIndentUnit": 4
   },
   "notebookName": "bronze_to_silver_yellow",
   "widgets": {}
  },
  "language_info": {
   "name": "python"
  }
 },
 "nbformat": 4,
 "nbformat_minor": 0
}
