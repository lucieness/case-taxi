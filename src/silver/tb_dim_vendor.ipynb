{
 "cells": [
  {
   "cell_type": "markdown",
   "metadata": {
    "application/vnd.databricks.v1+cell": {
     "cellMetadata": {
      "byteLimit": 2048000,
      "rowLimit": 10000
     },
     "inputWidgets": {},
     "nuid": "b096f905-bfcb-4ba9-9681-084c327d274a",
     "showTitle": false,
     "tableResultSettingsMap": {},
     "title": ""
    }
   },
   "source": [
    "Notebook responsável pela criação da tabela dimensão relacionada ao fornecedor dos dados (VendorID).\n",
    "\n",
    "Informações retiradas das documentações em:\n",
    "\n",
    "https://www.nyc.gov/assets/tlc/downloads/pdf/data_dictionary_trip_records_yellow.pdf\n",
    "https://www.nyc.gov/assets/tlc/downloads/pdf/data_dictionary_trip_records_green.pdf"
   ]
  },
  {
   "cell_type": "code",
   "execution_count": 0,
   "metadata": {
    "application/vnd.databricks.v1+cell": {
     "cellMetadata": {
      "byteLimit": 2048000,
      "rowLimit": 10000
     },
     "inputWidgets": {},
     "nuid": "815731a5-2049-4ca3-a32b-7d02528a1200",
     "showTitle": false,
     "tableResultSettingsMap": {},
     "title": ""
    }
   },
   "outputs": [],
   "source": [
    "import pyspark.sql.functions as F\n",
    "import yaml"
   ]
  },
  {
   "cell_type": "code",
   "execution_count": 0,
   "metadata": {
    "application/vnd.databricks.v1+cell": {
     "cellMetadata": {
      "byteLimit": 2048000,
      "rowLimit": 10000
     },
     "inputWidgets": {},
     "nuid": "74c79509-9070-4f5d-8b5c-bf662b0cadfc",
     "showTitle": false,
     "tableResultSettingsMap": {},
     "title": ""
    }
   },
   "outputs": [],
   "source": [
    "# método responsável por incluir os metadados nas colunas da tabela. \n",
    "# ele lê um arquivo yaml com a configuração das colunas e atualiza os metadados\n",
    "def create_update_column_metadata(table_name, file_path):\n",
    "    try:\n",
    "        with open(file_path, \"r\") as file:\n",
    "            column_comments = yaml.safe_load(file)[\"columns\"]\n",
    "\n",
    "            for column, comment in column_comments.items():\n",
    "                spark.sql(f\"ALTER TABLE {table_name} ALTER COLUMN {column} COMMENT '{comment}'\")\n",
    "    except Exception as e:\n",
    "        print(f\"Error during update column metadata: {e}\")"
   ]
  },
  {
   "cell_type": "code",
   "execution_count": 0,
   "metadata": {
    "application/vnd.databricks.v1+cell": {
     "cellMetadata": {
      "byteLimit": 2048000,
      "rowLimit": 10000
     },
     "inputWidgets": {},
     "nuid": "c7be8262-2ac5-4cf7-8c5f-a3953d71c0e3",
     "showTitle": false,
     "tableResultSettingsMap": {},
     "title": ""
    }
   },
   "outputs": [],
   "source": [
    "\n",
    "vendor_data = [\n",
    "    (1, \"Creative Mobile Technologies, LLC\"),\n",
    "    (2, \"VeriFone Inc.\")\n",
    "]\n",
    "\n",
    "table_name = \"tb_dim_vendor\"\n",
    "silver_table_name = f\"ifood_case.silver.{table_name}\"\n",
    "\n",
    "df_silver = spark.createDataFrame(vendor_data, [\"id_vendor\", \"ds_vendor_name\"])"
   ]
  },
  {
   "cell_type": "code",
   "execution_count": 0,
   "metadata": {
    "application/vnd.databricks.v1+cell": {
     "cellMetadata": {
      "byteLimit": 2048000,
      "rowLimit": 10000
     },
     "inputWidgets": {},
     "nuid": "65f80dd8-7bf6-4646-9058-0da155c5f69b",
     "showTitle": false,
     "tableResultSettingsMap": {},
     "title": ""
    }
   },
   "outputs": [],
   "source": [
    "df_silver.write.format(\"delta\").mode(\"overwrite\").saveAsTable(f\"{silver_table_name}\")"
   ]
  },
  {
   "cell_type": "code",
   "execution_count": 0,
   "metadata": {
    "application/vnd.databricks.v1+cell": {
     "cellMetadata": {
      "byteLimit": 2048000,
      "rowLimit": 10000
     },
     "inputWidgets": {},
     "nuid": "8ee7f478-1a11-4c59-99bd-f08461d70747",
     "showTitle": false,
     "tableResultSettingsMap": {},
     "title": ""
    }
   },
   "outputs": [],
   "source": [
    "create_update_column_metadata(silver_table_name, f\"./metadata/{table_name}.yaml\")"
   ]
  }
 ],
 "metadata": {
  "application/vnd.databricks.v1+notebook": {
   "computePreferences": null,
   "dashboards": [],
   "environmentMetadata": {
    "base_environment": "",
    "environment_version": "2"
   },
   "language": "python",
   "notebookMetadata": {
    "pythonIndentUnit": 4
   },
   "notebookName": "tb_dim_vendor",
   "widgets": {}
  },
  "language_info": {
   "name": "python"
  }
 },
 "nbformat": 4,
 "nbformat_minor": 0
}
