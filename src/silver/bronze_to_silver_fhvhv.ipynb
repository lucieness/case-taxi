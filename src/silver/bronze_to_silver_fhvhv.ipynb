{
 "cells": [
  {
   "cell_type": "code",
   "execution_count": 0,
   "metadata": {
    "application/vnd.databricks.v1+cell": {
     "cellMetadata": {
      "byteLimit": 2048000,
      "rowLimit": 10000
     },
     "inputWidgets": {},
     "nuid": "6b07863b-a922-4fdf-930f-5053a10e9422",
     "showTitle": false,
     "tableResultSettingsMap": {},
     "title": ""
    }
   },
   "outputs": [],
   "source": [
    "import pyspark.sql.types as T\n",
    "import pyspark.sql.functions as F\n",
    "import yaml"
   ]
  },
  {
   "cell_type": "code",
   "execution_count": 0,
   "metadata": {
    "application/vnd.databricks.v1+cell": {
     "cellMetadata": {
      "byteLimit": 2048000,
      "rowLimit": 10000
     },
     "inputWidgets": {},
     "nuid": "85db87df-687a-42f3-8a5c-2afcdf3b65ae",
     "showTitle": false,
     "tableResultSettingsMap": {},
     "title": ""
    }
   },
   "outputs": [],
   "source": [
    "def create_update_column_metadata(table_name, file_path):\n",
    "    try:\n",
    "        with open(file_path, \"r\") as file:\n",
    "            column_comments = yaml.safe_load(file)[\"columns\"]\n",
    "\n",
    "            for column, comment in column_comments.items():\n",
    "                spark.sql(f\"ALTER TABLE {table_name} ALTER COLUMN {column} COMMENT '{comment}'\")\n",
    "    except Exception as e:\n",
    "        print(f\"Error during update column metadata: {e}\")"
   ]
  },
  {
   "cell_type": "code",
   "execution_count": 0,
   "metadata": {
    "application/vnd.databricks.v1+cell": {
     "cellMetadata": {
      "byteLimit": 2048000,
      "rowLimit": 10000
     },
     "inputWidgets": {},
     "nuid": "23354304-6271-4165-8ff5-437e55aa0d2b",
     "showTitle": false,
     "tableResultSettingsMap": {},
     "title": ""
    }
   },
   "outputs": [],
   "source": [
    "source_table_name_after = \"ifood_case.bronze.fhvhv_after_202301\"\n",
    "source_table_name = \"ifood_case.bronze.fhvhv_202301\"\n",
    "silver_table_name = \"ifood_case.silver.fhvhv\""
   ]
  },
  {
   "cell_type": "code",
   "execution_count": 0,
   "metadata": {
    "application/vnd.databricks.v1+cell": {
     "cellMetadata": {
      "byteLimit": 2048000,
      "rowLimit": 10000
     },
     "inputWidgets": {},
     "nuid": "f1b85c46-df42-4226-bbec-15de45d48104",
     "showTitle": false,
     "tableResultSettingsMap": {},
     "title": ""
    }
   },
   "outputs": [],
   "source": [
    "df_after_202301 = spark.read.table(source_table_name_after)\n",
    "df_202301 = spark.read.table(source_table_name)"
   ]
  },
  {
   "cell_type": "code",
   "execution_count": 0,
   "metadata": {
    "application/vnd.databricks.v1+cell": {
     "cellMetadata": {
      "byteLimit": 2048000,
      "rowLimit": 10000
     },
     "inputWidgets": {},
     "nuid": "f529b6f4-6e47-4d29-bfc6-7c148c2e6d28",
     "showTitle": false,
     "tableResultSettingsMap": {},
     "title": ""
    }
   },
   "outputs": [],
   "source": [
    "column_shared_request_flag = (\n",
    "    F.when(F.col(\"shared_request_flag\") == \"N\", False)\n",
    "     .when(F.col(\"shared_request_flag\") == \"Y\", True)\n",
    "     .otherwise(None)\n",
    ")\n",
    "\n",
    "column_shared_match_flag = (\n",
    "    F.when(F.col(\"shared_match_flag\") == \"N\", False)\n",
    "     .when(F.col(\"shared_match_flag\") == \"Y\", True)\n",
    "     .otherwise(None)\n",
    ")\n",
    "\n",
    "column_access_a_ride_flag = (\n",
    "    F.when(F.col(\"access_a_ride_flag\") == \"N\", False)\n",
    "     .when(F.col(\"access_a_ride_flag\") == \"Y\", True)\n",
    "     .otherwise(None)\n",
    ")\n",
    "\n",
    "column_wav_request_flag = (\n",
    "    F.when(F.col(\"wav_request_flag\") == \"N\", False)\n",
    "     .when(F.col(\"wav_request_flag\") == \"Y\", True)\n",
    "     .otherwise(None)\n",
    ")\n",
    "\n",
    "column_wav_match_flag = (\n",
    "    F.when(F.col(\"wav_match_flag\") == \"N\", False)\n",
    "     .when(F.col(\"wav_match_flag\") == \"Y\", True)\n",
    "     .otherwise(None)\n",
    ")\n",
    "\n",
    "with_columns_dict = {\n",
    "    \"fl_shared_request\": column_shared_request_flag,\n",
    "    \"fl_shared_match\": column_shared_match_flag,\n",
    "    \"fl_access_a_ride\": column_access_a_ride_flag,\n",
    "    \"fl_wav_request\": column_wav_request_flag,\n",
    "    \"fl_wav_match\": column_wav_match_flag,\n",
    "}"
   ]
  },
  {
   "cell_type": "code",
   "execution_count": 0,
   "metadata": {
    "application/vnd.databricks.v1+cell": {
     "cellMetadata": {
      "byteLimit": 2048000,
      "rowLimit": 10000
     },
     "inputWidgets": {},
     "nuid": "2f897b8e-588b-48c6-b751-0d4f075b5dfc",
     "showTitle": false,
     "tableResultSettingsMap": {},
     "title": ""
    }
   },
   "outputs": [],
   "source": [
    "\n",
    "df_202301 = (\n",
    "    df_202301\n",
    "        .withColumns(with_columns_dict)\n",
    "        .select(\n",
    "            F.col(\"hvfhs_license_num\").alias(\"ds_hvfhs_license_number\").cast(T.StringType()),\n",
    "            F.col(\"dispatching_base_num\").alias(\"ds_dispatching_base_number\").cast(T.StringType()),\n",
    "            F.col(\"originating_base_num\").alias(\"ds_originating_base_number\").cast(T.StringType()),\n",
    "            F.col(\"request_datetime\").alias(\"ts_request\").cast(T.TimestampType()),\n",
    "            F.col(\"on_scene_datetime\").alias(\"ts_on_scene\").cast(T.TimestampType()), \n",
    "            F.col(\"pickup_datetime\").alias(\"ts_pickup\").cast(T.TimestampType()),\n",
    "            F.col(\"dropOff_datetime\").alias(\"ts_dropoff\").cast(T.TimestampType()),\n",
    "            F.col(\"PULocationID\").alias(\"id_pickup_location\").cast(T.IntegerType()),\n",
    "            F.col(\"DOLocationID\").alias(\"id_dropoff_location\").cast(T.IntegerType()),\n",
    "            F.col(\"trip_miles\").alias(\"vl_trip_miles\").cast(T.DoubleType()),\n",
    "            F.col(\"trip_time\").alias(\"vl_trip_time\").cast(T.LongType()),\n",
    "            F.col(\"base_passenger_fare\").alias(\"vl_base_passenger_fare\").cast(T.DoubleType()),\n",
    "            F.col(\"tolls\").alias(\"vl_tolls\").cast(T.DoubleType()), \n",
    "            F.col(\"bcf\").alias(\"vl_bcf\").cast(T.DoubleType()),\n",
    "            F.col(\"sales_tax\").alias(\"vl_sales_tax\").cast(T.DoubleType()), \n",
    "            F.col(\"congestion_surcharge\").alias(\"vl_congestion_surcharge\").cast(T.DoubleType()), \n",
    "            F.col(\"airport_fee\").alias(\"vl_airport_fee\").cast(T.DoubleType()), \n",
    "            F.col(\"tips\").alias(\"vl_tips\").cast(T.DoubleType()),\n",
    "            F.col(\"driver_pay\").alias(\"vl_driver_pay\").cast(T.DoubleType()),\n",
    "            F.col(\"fl_shared_request\"),\n",
    "            F.col(\"fl_shared_match\"), \n",
    "            F.col(\"fl_access_a_ride\"),\n",
    "            F.col(\"fl_wav_request\"),\n",
    "            F.col(\"fl_wav_match\") \n",
    "        )\n",
    ")\n",
    "\n",
    "df_after_202301 = (\n",
    "    df_after_202301\n",
    "        .withColumns(with_columns_dict)\n",
    "        .select(\n",
    "            F.col(\"hvfhs_license_num\").alias(\"ds_hvfhs_license_number\").cast(T.StringType()),\n",
    "            F.col(\"dispatching_base_num\").alias(\"ds_dispatching_base_number\").cast(T.StringType()),\n",
    "            F.col(\"originating_base_num\").alias(\"ds_originating_base_number\").cast(T.StringType()),\n",
    "            F.col(\"request_datetime\").alias(\"ts_request\").cast(T.TimestampType()),\n",
    "            F.col(\"on_scene_datetime\").alias(\"ts_on_scene\").cast(T.TimestampType()), \n",
    "            F.col(\"pickup_datetime\").alias(\"ts_pickup\").cast(T.TimestampType()),\n",
    "            F.col(\"dropOff_datetime\").alias(\"ts_dropoff\").cast(T.TimestampType()),\n",
    "            F.col(\"PULocationID\").alias(\"id_pickup_location\").cast(T.IntegerType()),\n",
    "            F.col(\"DOLocationID\").alias(\"id_dropoff_location\").cast(T.IntegerType()),\n",
    "            F.col(\"trip_miles\").alias(\"vl_trip_miles\").cast(T.DoubleType()),\n",
    "            F.col(\"trip_time\").alias(\"vl_trip_time\").cast(T.LongType()),\n",
    "            F.col(\"base_passenger_fare\").alias(\"vl_base_passenger_fare\").cast(T.DoubleType()),\n",
    "            F.col(\"tolls\").alias(\"vl_tolls\").cast(T.DoubleType()), \n",
    "            F.col(\"bcf\").alias(\"vl_bcf\").cast(T.DoubleType()),\n",
    "            F.col(\"sales_tax\").alias(\"vl_sales_tax\").cast(T.DoubleType()), \n",
    "            F.col(\"congestion_surcharge\").alias(\"vl_congestion_surcharge\").cast(T.DoubleType()), \n",
    "            F.col(\"airport_fee\").alias(\"vl_airport_fee\").cast(T.DoubleType()), \n",
    "            F.col(\"tips\").alias(\"vl_tips\").cast(T.DoubleType()),\n",
    "            F.col(\"driver_pay\").alias(\"vl_driver_pay\").cast(T.DoubleType()),\n",
    "            F.col(\"fl_shared_request\"),\n",
    "            F.col(\"fl_shared_match\"), \n",
    "            F.col(\"fl_access_a_ride\"),\n",
    "            F.col(\"fl_wav_request\"),\n",
    "            F.col(\"fl_wav_match\")  \n",
    "        )\n",
    ")\n",
    "\n",
    "df_silver = df_202301.union(df_after_202301).repartition(10)"
   ]
  },
  {
   "cell_type": "code",
   "execution_count": 0,
   "metadata": {
    "application/vnd.databricks.v1+cell": {
     "cellMetadata": {
      "byteLimit": 2048000,
      "rowLimit": 10000
     },
     "inputWidgets": {},
     "nuid": "0035b0c3-216b-4f89-8407-3d94040eaf30",
     "showTitle": false,
     "tableResultSettingsMap": {},
     "title": ""
    }
   },
   "outputs": [],
   "source": [
    "df_silver = (\n",
    "    df_silver\n",
    "        .dropDuplicates()\n",
    "        .dropna(how=\"all\")\n",
    ")"
   ]
  },
  {
   "cell_type": "code",
   "execution_count": 0,
   "metadata": {
    "application/vnd.databricks.v1+cell": {
     "cellMetadata": {
      "byteLimit": 2048000,
      "rowLimit": 10000
     },
     "inputWidgets": {},
     "nuid": "5f80ebe6-0a11-462b-aafa-7e79f1308300",
     "showTitle": false,
     "tableResultSettingsMap": {},
     "title": ""
    }
   },
   "outputs": [],
   "source": [
    "df_silver.write.format(\"delta\").mode(\"overwrite\").saveAsTable(f\"{silver_table_name}\")"
   ]
  },
  {
   "cell_type": "code",
   "execution_count": 0,
   "metadata": {
    "application/vnd.databricks.v1+cell": {
     "cellMetadata": {
      "byteLimit": 2048000,
      "rowLimit": 10000
     },
     "inputWidgets": {},
     "nuid": "2b621b95-0176-47d6-be79-17c3a29cd0f2",
     "showTitle": false,
     "tableResultSettingsMap": {},
     "title": ""
    }
   },
   "outputs": [],
   "source": [
    "create_update_column_metadata(silver_table_name, \"./metadata/fhvhv.yaml\")"
   ]
  }
 ],
 "metadata": {
  "application/vnd.databricks.v1+notebook": {
   "computePreferences": null,
   "dashboards": [],
   "environmentMetadata": {
    "base_environment": "",
    "environment_version": "2"
   },
   "language": "python",
   "notebookMetadata": {
    "pythonIndentUnit": 4
   },
   "notebookName": "bronze_to_silver_fhvhv",
   "widgets": {}
  },
  "language_info": {
   "name": "python"
  }
 },
 "nbformat": 4,
 "nbformat_minor": 0
}
