{
 "cells": [
  {
   "cell_type": "markdown",
   "metadata": {
    "application/vnd.databricks.v1+cell": {
     "cellMetadata": {
      "byteLimit": 2048000,
      "rowLimit": 10000
     },
     "inputWidgets": {},
     "nuid": "af0ed952-a8c0-4a65-83dc-52d0d218efbe",
     "showTitle": false,
     "tableResultSettingsMap": {},
     "title": ""
    }
   },
   "source": [
    "Notebook responsável por ler as tabelas bronze do taxi do tipo YELLOW, realizar as limpezas e transformações, agregar os dados em uma única tabela fato e salvar na camada silver.\n",
    "\n",
    "As tabelas \"dimensão\" são criadas em outros notebooks dentro desta mesma pasta."
   ]
  },
  {
   "cell_type": "code",
   "execution_count": 0,
   "metadata": {
    "application/vnd.databricks.v1+cell": {
     "cellMetadata": {
      "byteLimit": 2048000,
      "rowLimit": 10000
     },
     "inputWidgets": {},
     "nuid": "f4c76311-83e7-4b84-9ea1-5cf5fa1c120c",
     "showTitle": true,
     "tableResultSettingsMap": {},
     "title": "imports"
    }
   },
   "outputs": [],
   "source": [
    "import pyspark.sql.types as T\n",
    "import pyspark.sql.functions as F\n",
    "import yaml"
   ]
  },
  {
   "cell_type": "code",
   "execution_count": 0,
   "metadata": {
    "application/vnd.databricks.v1+cell": {
     "cellMetadata": {
      "byteLimit": 2048000,
      "rowLimit": 10000
     },
     "inputWidgets": {},
     "nuid": "18a28b87-4c35-4d7c-9ce5-90851df97357",
     "showTitle": true,
     "tableResultSettingsMap": {},
     "title": "functions"
    }
   },
   "outputs": [],
   "source": [
    "# método responsável por incluir os metadados nas colunas da tabela. \n",
    "# ele lê um arquivo yaml com a configuração das colunas e atualiza os metadados\n",
    "def create_update_column_metadata(table_name, file_path):\n",
    "    try:\n",
    "        with open(file_path, \"r\") as file:\n",
    "            column_comments = yaml.safe_load(file)[\"columns\"]\n",
    "\n",
    "            for column, comment in column_comments.items():\n",
    "                spark.sql(f\"ALTER TABLE {table_name} ALTER COLUMN {column} COMMENT '{comment}'\")\n",
    "    except Exception as e:\n",
    "        print(f\"Error during update column metadata: {e}\")\n",
    "\n",
    "# método responsável por filtrar registros onde a data de embarque é menor que a data de desembarque e\n",
    "# e também retira registros que a data de embarque está fora do mês daquela fonte (exemplo: um registro com a data de \n",
    "# embarque de 2022-01 não pode estar junto com os registros do mês 2023-02)\n",
    "def remove_out_range_date(df, month_str):\n",
    "    df = (\n",
    "        df.filter(\n",
    "            (F.date_format(F.date_trunc(\"month\", F.col(\"tpep_pickup_datetime\")), \"yyyy-MM\") == month_str) &\n",
    "            (F.col(\"tpep_dropoff_datetime\") >= F.col(\"tpep_pickup_datetime\"))\n",
    "        )\n",
    "    )\n",
    "    return df"
   ]
  },
  {
   "cell_type": "code",
   "execution_count": 0,
   "metadata": {
    "application/vnd.databricks.v1+cell": {
     "cellMetadata": {
      "byteLimit": 2048000,
      "rowLimit": 10000
     },
     "inputWidgets": {},
     "nuid": "23354304-6271-4165-8ff5-437e55aa0d2b",
     "showTitle": true,
     "tableResultSettingsMap": {},
     "title": "variables"
    }
   },
   "outputs": [],
   "source": [
    "source_table_name_2023_01 = \"ifood_case.bronze.tb_yellow_2023_01\"\n",
    "source_table_name_2023_02 = \"ifood_case.bronze.tb_yellow_2023_02\"\n",
    "source_table_name_2023_03 = \"ifood_case.bronze.tb_yellow_2023_03\"\n",
    "source_table_name_2023_04 = \"ifood_case.bronze.tb_yellow_2023_04\"\n",
    "source_table_name_2023_05 = \"ifood_case.bronze.tb_yellow_2023_05\"\n",
    "\n",
    "table_name = \"tb_ft_trip_yellow\"\n",
    "silver_table_name = f\"ifood_case.silver.{table_name}\""
   ]
  },
  {
   "cell_type": "code",
   "execution_count": 0,
   "metadata": {
    "application/vnd.databricks.v1+cell": {
     "cellMetadata": {
      "byteLimit": 2048000,
      "rowLimit": 10000
     },
     "inputWidgets": {},
     "nuid": "f1b85c46-df42-4226-bbec-15de45d48104",
     "showTitle": true,
     "tableResultSettingsMap": {},
     "title": "load of source table"
    }
   },
   "outputs": [],
   "source": [
    "df_202301 = spark.read.table(source_table_name_2023_01)\n",
    "df_202302 = spark.read.table(source_table_name_2023_02)\n",
    "df_202303 = spark.read.table(source_table_name_2023_03)\n",
    "df_202304 = spark.read.table(source_table_name_2023_04)\n",
    "df_202305 = spark.read.table(source_table_name_2023_05)"
   ]
  },
  {
   "cell_type": "code",
   "execution_count": 0,
   "metadata": {
    "application/vnd.databricks.v1+cell": {
     "cellMetadata": {
      "byteLimit": 2048000,
      "rowLimit": 10000
     },
     "inputWidgets": {},
     "nuid": "89bc7381-ee58-4991-a82f-aea362cdca5a",
     "showTitle": false,
     "tableResultSettingsMap": {},
     "title": ""
    }
   },
   "outputs": [],
   "source": [
    "df_202301 = remove_out_range_date(df_202301, \"2023-01\")\n",
    "df_202302 = remove_out_range_date(df_202302, \"2023-02\")\n",
    "df_202303 = remove_out_range_date(df_202303, \"2023-03\")\n",
    "df_202304 = remove_out_range_date(df_202304, \"2023-04\")\n",
    "df_202305 = remove_out_range_date(df_202305, \"2023-05\")"
   ]
  },
  {
   "cell_type": "code",
   "execution_count": 0,
   "metadata": {
    "application/vnd.databricks.v1+cell": {
     "cellMetadata": {
      "byteLimit": 2048000,
      "rowLimit": 10000
     },
     "inputWidgets": {},
     "nuid": "16ec0727-7cd6-4b40-8be0-fcdc9149e6b3",
     "showTitle": false,
     "tableResultSettingsMap": {},
     "title": ""
    }
   },
   "outputs": [],
   "source": [
    "column_store_and_fwd_flag_expression = (\n",
    "    F.when(F.col(\"store_and_fwd_flag\") == \"N\", False)\n",
    "     .when(F.col(\"store_and_fwd_flag\") == \"Y\", True)\n",
    "     .otherwise(None)\n",
    ")"
   ]
  },
  {
   "cell_type": "code",
   "execution_count": 0,
   "metadata": {
    "application/vnd.databricks.v1+cell": {
     "cellMetadata": {
      "byteLimit": 2048000,
      "rowLimit": 10000
     },
     "inputWidgets": {},
     "nuid": "2f897b8e-588b-48c6-b751-0d4f075b5dfc",
     "showTitle": false,
     "tableResultSettingsMap": {},
     "title": ""
    }
   },
   "outputs": [],
   "source": [
    "# os dados de 2023-01 possuem um schema diferente dos meses subsequentes. Por isso são carregados e processados de forma separada\n",
    "df_202301 = (\n",
    "    df_202301\n",
    "        .withColumn(\"fl_store_and_fwd\", column_store_and_fwd_flag_expression)\n",
    "        .select(\n",
    "            F.col(\"VendorID\").alias(\"id_vendor\").cast(T.IntegerType()),\n",
    "            F.col(\"tpep_pickup_datetime\").alias(\"ts_pickup\"),\n",
    "            F.col(\"tpep_dropoff_datetime\").alias(\"ts_dropoff\"),\n",
    "            F.col(\"passenger_count\").alias(\"nb_passenger_count\"),\n",
    "            F.col(\"trip_distance\").alias(\"vl_trip_distance\"),\n",
    "            F.col(\"RatecodeID\").alias(\"id_rate_code\").cast(T.IntegerType()),\n",
    "            F.col(\"fl_store_and_fwd\"),\n",
    "            F.col(\"PULocationID\").alias(\"id_pickup_location\").cast(T.IntegerType()),\n",
    "            F.col(\"DOLocationID\").alias(\"id_dropoff_location\").cast(T.IntegerType()),\n",
    "            F.col(\"payment_type\").alias(\"id_payment_type\").cast(T.IntegerType()),\n",
    "            F.col(\"fare_amount\").alias(\"vl_fare_amount\"),\n",
    "            F.col(\"extra\").alias(\"vl_extra\"),\n",
    "            F.col(\"mta_tax\").alias(\"vl_mta_tax\"),\n",
    "            F.col(\"tip_amount\").alias(\"vl_tip_amount\"),\n",
    "            F.col(\"tolls_amount\").alias(\"vl_tolls_amount\"),\n",
    "            F.col(\"improvement_surcharge\").alias(\"vl_improvement_surcharge\"),\n",
    "            F.col(\"total_amount\").alias(\"vl_total_amount\"),\n",
    "            F.col(\"congestion_surcharge\").alias(\"vl_congestion_surcharge\"),\n",
    "            F.col(\"airport_fee\").alias(\"vl_airport_fee\")\n",
    "        )\n",
    ")\n",
    "\n",
    "df_after_202301 = (\n",
    "    df_202302.union(df_202303).union(df_202304).union(df_202305)\n",
    "        .withColumn(\"fl_store_and_fwd\", column_store_and_fwd_flag_expression)\n",
    "        .select(\n",
    "            F.col(\"VendorID\").alias(\"id_vendor\").cast(T.IntegerType()),\n",
    "            F.col(\"tpep_pickup_datetime\").alias(\"ts_pickup\"),\n",
    "            F.col(\"tpep_dropoff_datetime\").alias(\"ts_dropoff\"),\n",
    "            F.col(\"passenger_count\").alias(\"nb_passenger_count\"),\n",
    "            F.col(\"trip_distance\").alias(\"vl_trip_distance\"),\n",
    "            F.col(\"RatecodeID\").alias(\"id_rate_code\").cast(T.IntegerType()),\n",
    "            F.col(\"fl_store_and_fwd\"),\n",
    "            F.col(\"PULocationID\").alias(\"id_pickup_location\").cast(T.IntegerType()),\n",
    "            F.col(\"DOLocationID\").alias(\"id_dropoff_location\").cast(T.IntegerType()),\n",
    "            F.col(\"payment_type\").alias(\"id_payment_type\").cast(T.IntegerType()),\n",
    "            F.col(\"fare_amount\").alias(\"vl_fare_amount\"),\n",
    "            F.col(\"extra\").alias(\"vl_extra\"),\n",
    "            F.col(\"mta_tax\").alias(\"vl_mta_tax\"),\n",
    "            F.col(\"tip_amount\").alias(\"vl_tip_amount\"),\n",
    "            F.col(\"tolls_amount\").alias(\"vl_tolls_amount\"),\n",
    "            F.col(\"improvement_surcharge\").alias(\"vl_improvement_surcharge\"),\n",
    "            F.col(\"total_amount\").alias(\"vl_total_amount\"),\n",
    "            F.col(\"congestion_surcharge\").alias(\"vl_congestion_surcharge\"),\n",
    "            F.col(\"Airport_fee\").alias(\"vl_airport_fee\")\n",
    "        )\n",
    ")\n",
    "\n",
    "df_silver = df_after_202301.union(df_202301).coalesce(1)"
   ]
  },
  {
   "cell_type": "code",
   "execution_count": 0,
   "metadata": {
    "application/vnd.databricks.v1+cell": {
     "cellMetadata": {
      "byteLimit": 2048000,
      "rowLimit": 10000
     },
     "inputWidgets": {},
     "nuid": "059da971-e228-4f6c-ab75-dcf803b187dc",
     "showTitle": false,
     "tableResultSettingsMap": {},
     "title": ""
    }
   },
   "outputs": [],
   "source": [
    "df_silver = (\n",
    "    df_silver\n",
    "        .dropDuplicates()\n",
    "        .dropna(how=\"all\")\n",
    ")"
   ]
  },
  {
   "cell_type": "code",
   "execution_count": 0,
   "metadata": {
    "application/vnd.databricks.v1+cell": {
     "cellMetadata": {
      "byteLimit": 2048000,
      "rowLimit": 10000
     },
     "inputWidgets": {},
     "nuid": "5f80ebe6-0a11-462b-aafa-7e79f1308300",
     "showTitle": false,
     "tableResultSettingsMap": {},
     "title": ""
    }
   },
   "outputs": [],
   "source": [
    "df_silver.write.format(\"delta\").mode(\"overwrite\").saveAsTable(f\"{silver_table_name}\")"
   ]
  },
  {
   "cell_type": "code",
   "execution_count": 0,
   "metadata": {
    "application/vnd.databricks.v1+cell": {
     "cellMetadata": {
      "byteLimit": 2048000,
      "rowLimit": 10000
     },
     "inputWidgets": {},
     "nuid": "4340eebd-d1c8-4ece-a997-9184df89fad8",
     "showTitle": false,
     "tableResultSettingsMap": {},
     "title": ""
    }
   },
   "outputs": [],
   "source": [
    "create_update_column_metadata(silver_table_name, f\"./metadata/{table_name}.yaml\")"
   ]
  }
 ],
 "metadata": {
  "application/vnd.databricks.v1+notebook": {
   "computePreferences": null,
   "dashboards": [],
   "environmentMetadata": {
    "base_environment": "",
    "environment_version": "2"
   },
   "language": "python",
   "notebookMetadata": {
    "pythonIndentUnit": 4
   },
   "notebookName": "bronze_to_silver_tb_ft_trip_yellow",
   "widgets": {}
  },
  "language_info": {
   "name": "python"
  }
 },
 "nbformat": 4,
 "nbformat_minor": 0
}
