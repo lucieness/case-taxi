{
 "cells": [
  {
   "cell_type": "markdown",
   "metadata": {
    "application/vnd.databricks.v1+cell": {
     "cellMetadata": {
      "byteLimit": 2048000,
      "rowLimit": 10000
     },
     "inputWidgets": {},
     "nuid": "69ee6251-6f1d-469c-a1b0-6908875513a8",
     "showTitle": false,
     "tableResultSettingsMap": {},
     "title": ""
    }
   },
   "source": [
    "Notebook responsável pela ingestão dos dados na camada raw. \n",
    "\n",
    "Nesta ingestão são obtidos os dados de 01/2023 até 05/2023.\n",
    "\n",
    "Os dados são salvos no bucket *s3://case-tecnico-ifood/*, seguindo o padrão de nomenclatura: {tipo arquivo}/{mm-yyyy}/tripdata.parquet.\n"
   ]
  },
  {
   "cell_type": "code",
   "execution_count": 0,
   "metadata": {
    "application/vnd.databricks.v1+cell": {
     "cellMetadata": {
      "byteLimit": 2048000,
      "rowLimit": 10000
     },
     "inputWidgets": {},
     "nuid": "501e52f8-16dc-44fe-bead-bfa2c370d688",
     "showTitle": false,
     "tableResultSettingsMap": {},
     "title": ""
    }
   },
   "outputs": [],
   "source": [
    "base_download_url = \"https://d37ci6vzurychx.cloudfront.net/trip-data/{}_tripdata_{}.parquet\"\n",
    "base_s3_bucket = \"s3://case-tecnico-ifood/raw/{}/{}/tripdata.parquet\"\n",
    "data_types = [\"yellow\", \"green\", \"fhv\", \"fhvhv\"]\n",
    "dates_to_process = [\"2023-01\", \"2023-02\", \"2023-03\", \"2023-04\", \"2023-05\"]\n"
   ]
  },
  {
   "cell_type": "code",
   "execution_count": 0,
   "metadata": {
    "application/vnd.databricks.v1+cell": {
     "cellMetadata": {
      "byteLimit": 2048000,
      "rowLimit": 10000
     },
     "inputWidgets": {},
     "nuid": "d8958dc3-42c2-4352-8f1e-44ed3858569e",
     "showTitle": false,
     "tableResultSettingsMap": {},
     "title": ""
    }
   },
   "outputs": [],
   "source": [
    "for data_type in data_types:\n",
    "    for date in dates_to_process:\n",
    "        download_url = base_download_url.format(data_type, date)\n",
    "        s3_bucket = base_s3_bucket.format(data_type, date)\n",
    "        dbutils.fs.cp(download_url, s3_bucket)\n",
    "        print(f\"File {download_url} successfully copied to S3: {s3_bucket}\")\n",
    "        "
   ]
  }
 ],
 "metadata": {
  "application/vnd.databricks.v1+notebook": {
   "computePreferences": null,
   "dashboards": [],
   "environmentMetadata": {
    "base_environment": "",
    "environment_version": "2"
   },
   "language": "python",
   "notebookMetadata": {
    "pythonIndentUnit": 4
   },
   "notebookName": "all_source_to_raw",
   "widgets": {}
  },
  "language_info": {
   "name": "python"
  }
 },
 "nbformat": 4,
 "nbformat_minor": 0
}
