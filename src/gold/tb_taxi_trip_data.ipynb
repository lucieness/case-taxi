{
 "cells": [
  {
   "cell_type": "markdown",
   "metadata": {
    "application/vnd.databricks.v1+cell": {
     "cellMetadata": {
      "byteLimit": 2048000,
      "rowLimit": 10000
     },
     "inputWidgets": {},
     "nuid": "c565b8fa-83d4-4f0a-9561-61f4d9a33442",
     "showTitle": false,
     "tableResultSettingsMap": {},
     "title": ""
    }
   },
   "source": [
    "Notebook responsável por criar a tabela com os dados de taxi na camada gold."
   ]
  },
  {
   "cell_type": "code",
   "execution_count": 0,
   "metadata": {
    "application/vnd.databricks.v1+cell": {
     "cellMetadata": {
      "byteLimit": 2048000,
      "rowLimit": 10000
     },
     "inputWidgets": {},
     "nuid": "f978d9a4-0ae2-41b4-b604-2a7bc2fc9ad0",
     "showTitle": true,
     "tableResultSettingsMap": {},
     "title": "imports"
    }
   },
   "outputs": [],
   "source": [
    "import sys\n",
    "import os\n",
    "sys.path.append('../utils') \n",
    "\n",
    "from utils import create_update_table_metadata\n",
    "import pyspark.sql.functions as F\n",
    "import pyspark.sql.types as T"
   ]
  },
  {
   "cell_type": "code",
   "execution_count": 0,
   "metadata": {
    "application/vnd.databricks.v1+cell": {
     "cellMetadata": {
      "byteLimit": 2048000,
      "rowLimit": 10000
     },
     "inputWidgets": {},
     "nuid": "1261a6a7-1f43-4144-a23b-c3c3a8fd0a13",
     "showTitle": true,
     "tableResultSettingsMap": {},
     "title": "variables"
    }
   },
   "outputs": [],
   "source": [
    "notebook_path = dbutils.notebook.entry_point.getDbutils().notebook().getContext().notebookPath().get()\n",
    "folder_path = os.path.dirname(notebook_path)\n",
    "\n",
    "source_table_name_green = \"ifood_case.silver.tb_ft_trip_green\"\n",
    "source_table_name_yellow = \"ifood_case.silver.tb_ft_trip_yellow\"\n",
    "table_name = \"tb_taxi_trip_data\"\n",
    "gold_table_name = f\"ifood_case.gold.{table_name}\""
   ]
  },
  {
   "cell_type": "code",
   "execution_count": 0,
   "metadata": {
    "application/vnd.databricks.v1+cell": {
     "cellMetadata": {
      "byteLimit": 2048000,
      "rowLimit": 10000
     },
     "inputWidgets": {},
     "nuid": "0f4a179f-2212-43e0-b049-d2ac47a06b2b",
     "showTitle": true,
     "tableResultSettingsMap": {},
     "title": "load source data"
    }
   },
   "outputs": [],
   "source": [
    "df_green = spark.read.table(source_table_name_green)\n",
    "df_yellow = spark.read.table(source_table_name_yellow)"
   ]
  },
  {
   "cell_type": "code",
   "execution_count": 0,
   "metadata": {
    "application/vnd.databricks.v1+cell": {
     "cellMetadata": {
      "byteLimit": 2048000,
      "rowLimit": 10000
     },
     "inputWidgets": {},
     "nuid": "4ae30cb3-748a-4c6d-be16-c0c8c1e447c7",
     "showTitle": false,
     "tableResultSettingsMap": {},
     "title": ""
    }
   },
   "outputs": [],
   "source": [
    "df_green_gold = (\n",
    "    df_green\n",
    "        .withColumn(\"cd_taxi_type\", F.lit(\"green\")) \n",
    "        .select(\n",
    "            F.col(\"id_vendor\"),\n",
    "            F.col(\"ts_pickup\"),\n",
    "            F.col(\"ts_dropoff\"),\n",
    "            F.col(\"nb_passenger_count\"),\n",
    "            F.col(\"vl_total_amount\"),\n",
    "            F.col(\"cd_taxi_type\")\n",
    "        )\n",
    ")\n",
    "\n",
    "df_yellow_gold = (\n",
    "    df_yellow\n",
    "        .withColumn(\"cd_taxi_type\", F.lit(\"yellow\")) \n",
    "        .select(\n",
    "            F.col(\"id_vendor\"),\n",
    "            F.col(\"ts_pickup\"),\n",
    "            F.col(\"ts_dropoff\"),\n",
    "            F.col(\"nb_passenger_count\"),\n",
    "            F.col(\"vl_total_amount\"),\n",
    "            F.col(\"cd_taxi_type\")\n",
    "        )\n",
    ")"
   ]
  },
  {
   "cell_type": "code",
   "execution_count": 0,
   "metadata": {
    "application/vnd.databricks.v1+cell": {
     "cellMetadata": {
      "byteLimit": 2048000,
      "rowLimit": 10000
     },
     "inputWidgets": {},
     "nuid": "f8f2cb42-9f57-47ce-8ce9-744c4a1c9cad",
     "showTitle": false,
     "tableResultSettingsMap": {},
     "title": ""
    }
   },
   "outputs": [],
   "source": [
    "df_gold = df_green_gold.union(df_yellow_gold)"
   ]
  },
  {
   "cell_type": "code",
   "execution_count": 0,
   "metadata": {
    "application/vnd.databricks.v1+cell": {
     "cellMetadata": {
      "byteLimit": 2048000,
      "rowLimit": 10000
     },
     "inputWidgets": {},
     "nuid": "5e79122f-5c2a-4275-ae65-bbff4f74397d",
     "showTitle": false,
     "tableResultSettingsMap": {},
     "title": ""
    }
   },
   "outputs": [],
   "source": [
    "df_gold.write.format(\"delta\").mode(\"overwrite\").saveAsTable(f\"{gold_table_name}\")"
   ]
  },
  {
   "cell_type": "code",
   "execution_count": 0,
   "metadata": {
    "application/vnd.databricks.v1+cell": {
     "cellMetadata": {
      "byteLimit": 2048000,
      "rowLimit": 10000
     },
     "inputWidgets": {},
     "nuid": "f2981c5c-9a2e-4aed-b6a5-fc9f7481ef90",
     "showTitle": false,
     "tableResultSettingsMap": {},
     "title": ""
    }
   },
   "outputs": [],
   "source": [
    "metadata_file_path = f\"/Workspace/{folder_path}/metadata/{table_name}.yaml\"\n",
    "create_update_table_metadata(spark, gold_table_name, metadata_file_path)"
   ]
  }
 ],
 "metadata": {
  "application/vnd.databricks.v1+notebook": {
   "computePreferences": null,
   "dashboards": [],
   "environmentMetadata": {
    "base_environment": "",
    "environment_version": "2"
   },
   "language": "python",
   "notebookMetadata": {
    "pythonIndentUnit": 4
   },
   "notebookName": "tb_taxi_trip_data",
   "widgets": {}
  },
  "language_info": {
   "name": "python"
  }
 },
 "nbformat": 4,
 "nbformat_minor": 0
}
