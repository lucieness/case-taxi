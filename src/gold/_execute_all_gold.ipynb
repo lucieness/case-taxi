{
 "cells": [
  {
   "cell_type": "markdown",
   "metadata": {
    "application/vnd.databricks.v1+cell": {
     "cellMetadata": {
      "byteLimit": 2048000,
      "rowLimit": 10000
     },
     "inputWidgets": {},
     "nuid": "18668f30-3fd8-4329-9fe2-6c5c5ea54241",
     "showTitle": false,
     "tableResultSettingsMap": {},
     "title": ""
    }
   },
   "source": [
    "Notebook responsável por executar a ingestão para a camada gold de todas as tabelas.\n",
    "\n",
    "A existência deste arquivo pode ser simplesmente substituída por um job no workflow, que chame todos os outros notebooks.\n",
    "\n",
    "A ordem de execução deve ser primeiro o notebook tb_vendor e depois tb_taxi_trip_data."
   ]
  },
  {
   "cell_type": "code",
   "execution_count": 0,
   "metadata": {
    "application/vnd.databricks.v1+cell": {
     "cellMetadata": {
      "byteLimit": 2048000,
      "rowLimit": 10000
     },
     "inputWidgets": {},
     "nuid": "73127442-26ff-4c0a-b8af-f9d887b722d2",
     "showTitle": false,
     "tableResultSettingsMap": {},
     "title": ""
    }
   },
   "outputs": [],
   "source": [
    "dbutils.notebook.run(\"tb_vendor\", 180, {})\n",
    "dbutils.notebook.run(\"tb_taxi_trip_data\", 180, {})"
   ]
  }
 ],
 "metadata": {
  "application/vnd.databricks.v1+notebook": {
   "computePreferences": null,
   "dashboards": [],
   "environmentMetadata": {
    "base_environment": "",
    "environment_version": "2"
   },
   "language": "python",
   "notebookMetadata": {
    "pythonIndentUnit": 4
   },
   "notebookName": "_execute_all_gold",
   "widgets": {}
  },
  "language_info": {
   "name": "python"
  }
 },
 "nbformat": 4,
 "nbformat_minor": 0
}
