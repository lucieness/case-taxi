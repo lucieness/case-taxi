{
 "cells": [
  {
   "cell_type": "markdown",
   "metadata": {
    "application/vnd.databricks.v1+cell": {
     "cellMetadata": {
      "byteLimit": 2048000,
      "rowLimit": 10000
     },
     "inputWidgets": {},
     "nuid": "39b8dc4d-d26d-4c0f-915e-39a8e46058fb",
     "showTitle": false,
     "tableResultSettingsMap": {},
     "title": ""
    }
   },
   "source": [
    "Notebook responsável por ler o arquivo na camada raw, de acordo com o mês (month) e o tipo de táxi (param_taxi_type), e salvar como uma tabela na camada bronze."
   ]
  },
  {
   "cell_type": "code",
   "execution_count": 0,
   "metadata": {
    "application/vnd.databricks.v1+cell": {
     "cellMetadata": {
      "byteLimit": 2048000,
      "rowLimit": 10000
     },
     "inputWidgets": {},
     "nuid": "1f7dba66-9f8d-4e97-b4e0-9f05dd717e3d",
     "showTitle": false,
     "tableResultSettingsMap": {},
     "title": ""
    }
   },
   "outputs": [],
   "source": [
    "dbutils.widgets.text(\"param_month\", \"2023-01\")\n",
    "month_param_value = dbutils.widgets.get(\"param_month\")  \n",
    "\n",
    "dbutils.widgets.dropdown(\"param_taxi_type\", \"yellow\", [\"yellow\", \"green\"])\n",
    "taxi_type_param_value = dbutils.widgets.get(\"param_taxi_type\")"
   ]
  },
  {
   "cell_type": "code",
   "execution_count": 0,
   "metadata": {
    "application/vnd.databricks.v1+cell": {
     "cellMetadata": {
      "byteLimit": 2048000,
      "rowLimit": 10000
     },
     "inputWidgets": {},
     "nuid": "d7201ca1-e4a3-428f-a94a-7d5b7fcc2dcc",
     "showTitle": false,
     "tableResultSettingsMap": {},
     "title": ""
    }
   },
   "outputs": [],
   "source": [
    "s3_path = f\"s3://case-tecnico-ifood/raw/{taxi_type_param_value}/{month_param_value}\"\n",
    "catalog = \"ifood_case\"\n",
    "schema = \"bronze\"\n",
    "table_name = f\"tb_{taxi_type_param_value}_{month_param_value.replace('-', '_')}\""
   ]
  },
  {
   "cell_type": "code",
   "execution_count": 0,
   "metadata": {
    "application/vnd.databricks.v1+cell": {
     "cellMetadata": {
      "byteLimit": 2048000,
      "rowLimit": 10000
     },
     "inputWidgets": {},
     "nuid": "9e22228f-7a18-4a04-a761-16b80df5603a",
     "showTitle": false,
     "tableResultSettingsMap": {},
     "title": ""
    }
   },
   "outputs": [],
   "source": [
    "\n",
    "df = spark.read.parquet(s3_path)\n",
    "df.write.format(\"delta\").mode(\"overwrite\").saveAsTable(f\"{catalog}.{schema}.{table_name}\")\n"
   ]
  }
 ],
 "metadata": {
  "application/vnd.databricks.v1+notebook": {
   "computePreferences": null,
   "dashboards": [],
   "environmentMetadata": {
    "base_environment": "",
    "environment_version": "2"
   },
   "language": "python",
   "notebookMetadata": {
    "mostRecentlyExecutedCommandWithImplicitDF": {
     "commandId": 1473211151626009,
     "dataframes": [
      "_sqldf"
     ]
    },
    "pythonIndentUnit": 4
   },
   "notebookName": "generic_raw_to_bronze",
   "widgets": {
    "param_month": {
     "currentValue": "2023-05",
     "nuid": "d4405fc8-428c-4945-91e9-6d4e72db54c8",
     "typedWidgetInfo": {
      "autoCreated": false,
      "defaultValue": "2023-01",
      "label": null,
      "name": "param_month",
      "options": {
       "widgetDisplayType": "Text",
       "validationRegex": null
      },
      "parameterDataType": "String"
     },
     "widgetInfo": {
      "widgetType": "text",
      "defaultValue": "2023-01",
      "label": null,
      "name": "param_month",
      "options": {
       "widgetType": "text",
       "autoCreated": null,
       "validationRegex": null
      }
     }
    },
    "param_taxi_type": {
     "currentValue": "yellow",
     "nuid": "ecdafc78-2931-4966-9ff3-0a033a138e83",
     "typedWidgetInfo": {
      "autoCreated": false,
      "defaultValue": "yellow",
      "label": null,
      "name": "param_taxi_type",
      "options": {
       "widgetDisplayType": "Dropdown",
       "choices": [
        "yellow",
        "green"
       ],
       "fixedDomain": true,
       "multiselect": false
      },
      "parameterDataType": "String"
     },
     "widgetInfo": {
      "widgetType": "dropdown",
      "defaultValue": "yellow",
      "label": null,
      "name": "param_taxi_type",
      "options": {
       "widgetType": "dropdown",
       "autoCreated": null,
       "choices": [
        "yellow",
        "green"
       ]
      }
     }
    }
   }
  },
  "language_info": {
   "name": "python"
  }
 },
 "nbformat": 4,
 "nbformat_minor": 0
}
