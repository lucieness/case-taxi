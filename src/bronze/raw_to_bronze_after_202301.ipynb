{
 "cells": [
  {
   "cell_type": "markdown",
   "metadata": {
    "application/vnd.databricks.v1+cell": {
     "cellMetadata": {
      "byteLimit": 2048000,
      "rowLimit": 10000
     },
     "inputWidgets": {},
     "nuid": "39b8dc4d-d26d-4c0f-915e-39a8e46058fb",
     "showTitle": false,
     "tableResultSettingsMap": {},
     "title": ""
    }
   },
   "source": [
    "Notebook com ETL responsável por facrre"
   ]
  },
  {
   "cell_type": "code",
   "execution_count": 0,
   "metadata": {
    "application/vnd.databricks.v1+cell": {
     "cellMetadata": {
      "byteLimit": 2048000,
      "rowLimit": 10000
     },
     "inputWidgets": {},
     "nuid": "d7201ca1-e4a3-428f-a94a-7d5b7fcc2dcc",
     "showTitle": false,
     "tableResultSettingsMap": {},
     "title": ""
    }
   },
   "outputs": [],
   "source": [
    "s3_path = \"s3://case-tecnico-ifood/raw/{}/\"\n",
    "data_types = [\"yellow\", \"green\", \"fhv\", \"fhvhv\"]\n",
    "catalog = \"ifood_case\"\n",
    "schema = \"bronze\""
   ]
  },
  {
   "cell_type": "code",
   "execution_count": 0,
   "metadata": {
    "application/vnd.databricks.v1+cell": {
     "cellMetadata": {
      "byteLimit": 2048000,
      "rowLimit": 10000
     },
     "inputWidgets": {},
     "nuid": "9e22228f-7a18-4a04-a761-16b80df5603a",
     "showTitle": false,
     "tableResultSettingsMap": {},
     "title": ""
    }
   },
   "outputs": [],
   "source": [
    "for data_type in data_types:\n",
    "    date_folders = dbutils.fs.ls(s3_path.format(data_type))\n",
    "    filtered_folders = [folder.path for folder in date_folders if \"2023-01\" not in folder.path]\n",
    "\n",
    "    df = spark.read.parquet(*filtered_folders)\n",
    "    if data_type == \"fhvhv\":\n",
    "        df = df.repartition(8)\n",
    "    else:\n",
    "        df = df.coalesce(1)\n",
    "    df.write.format(\"delta\").mode(\"overwrite\").saveAsTable(f\"{catalog}.{schema}.{data_type}_after_202301\")"
   ]
  }
 ],
 "metadata": {
  "application/vnd.databricks.v1+notebook": {
   "computePreferences": null,
   "dashboards": [],
   "environmentMetadata": {
    "base_environment": "",
    "environment_version": "2"
   },
   "language": "python",
   "notebookMetadata": {
    "pythonIndentUnit": 4
   },
   "notebookName": "raw_to_bronze_after_202301",
   "widgets": {}
  },
  "language_info": {
   "name": "python"
  }
 },
 "nbformat": 4,
 "nbformat_minor": 0
}
