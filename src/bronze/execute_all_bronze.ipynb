{
 "cells": [
  {
   "cell_type": "markdown",
   "metadata": {
    "application/vnd.databricks.v1+cell": {
     "cellMetadata": {
      "byteLimit": 2048000,
      "rowLimit": 10000
     },
     "inputWidgets": {},
     "nuid": "18668f30-3fd8-4329-9fe2-6c5c5ea54241",
     "showTitle": false,
     "tableResultSettingsMap": {},
     "title": ""
    }
   },
   "source": [
    "Notebook responsável por executar a ingestão para a camada bronze de todos os arquivos da camada raw.\n",
    "\n",
    "A existência deste arquivo pode ser simplesmente substituída por um job no workflow, que passe repita a chamada ao notebook generic_raw_to_bronze para cada data e tipo de taxi"
   ]
  },
  {
   "cell_type": "code",
   "execution_count": 0,
   "metadata": {
    "application/vnd.databricks.v1+cell": {
     "cellMetadata": {
      "byteLimit": 2048000,
      "rowLimit": 10000
     },
     "inputWidgets": {},
     "nuid": "5c168261-c5ae-416e-b1e0-b20cc91f0f09",
     "showTitle": false,
     "tableResultSettingsMap": {},
     "title": ""
    }
   },
   "outputs": [],
   "source": [
    "months = [\"2023-01\", \"2023-02\", \"2023-03\", \"2023-04\", \"2023-05\"]\n",
    "types = [\"yellow\", \"green\"]"
   ]
  },
  {
   "cell_type": "code",
   "execution_count": 0,
   "metadata": {
    "application/vnd.databricks.v1+cell": {
     "cellMetadata": {
      "byteLimit": 2048000,
      "rowLimit": 10000
     },
     "inputWidgets": {},
     "nuid": "73127442-26ff-4c0a-b8af-f9d887b722d2",
     "showTitle": false,
     "tableResultSettingsMap": {},
     "title": ""
    }
   },
   "outputs": [],
   "source": [
    "for t in types:\n",
    "    for month in months:\n",
    "        parametros = {\"param_month\": month, \"param_taxi_type\": t}\n",
    "        dbutils.notebook.run(\"generic_raw_to_bronze\", 180, parametros)"
   ]
  }
 ],
 "metadata": {
  "application/vnd.databricks.v1+notebook": {
   "computePreferences": null,
   "dashboards": [],
   "environmentMetadata": {
    "base_environment": "",
    "environment_version": "2"
   },
   "language": "python",
   "notebookMetadata": {
    "pythonIndentUnit": 4
   },
   "notebookName": "execute_all_bronze",
   "widgets": {}
  },
  "language_info": {
   "name": "python"
  }
 },
 "nbformat": 4,
 "nbformat_minor": 0
}
